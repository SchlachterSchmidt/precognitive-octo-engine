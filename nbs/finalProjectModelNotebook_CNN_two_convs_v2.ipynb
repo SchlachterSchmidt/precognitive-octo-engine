{
 "cells": [
  {
   "cell_type": "markdown",
   "metadata": {},
   "source": [
    "# Final Project DL model Notebook - sinple CNN model with two convolutional layers - v01"
   ]
  },
  {
   "cell_type": "markdown",
   "metadata": {},
   "source": [
    "#### imports, settings and constants"
   ]
  },
  {
   "cell_type": "markdown",
   "metadata": {},
   "source": [
    "run log: \n",
    "\n",
    "- AWS p2\n",
    "- full data set\n",
    "- batch_size = 64\n",
    "- epochs = 15\n",
    "- learning_rate = 1e-3\n",
    "- augmented data enabled\n",
    "- dynamic lr reduce enabled\n",
    "- early stopping enabled"
   ]
  },
  {
   "cell_type": "code",
   "execution_count": 1,
   "metadata": {},
   "outputs": [
    {
     "name": "stderr",
     "output_type": "stream",
     "text": [
      "Using Theano backend.\n",
      "Using cuDNN version 5103 on context None\n",
      "Preallocating 10867/11439 Mb (0.950000) on cuda\n",
      "Mapped name None to device cuda: Tesla K80 (0000:00:1E.0)\n"
     ]
    }
   ],
   "source": [
    "import sys\n",
    "\n",
    "from keras.models import Sequential\n",
    "from keras.layers import BatchNormalization, Flatten, Dense, Conv2D, MaxPooling2D\n",
    "from keras.optimizers import Adam\n",
    "import numpy as np\n",
    "\n",
    "from pathlib import Path\n",
    "\n",
    "sys.path.append(str(Path.cwd().parent))\n",
    "from utils import *\n",
    "\n",
    "current_dir = Path.cwd()\n",
    "HOME_DIR = current_dir.parent\n",
    "DATA_DIR = HOME_DIR.joinpath('data')\n",
    "\n",
    "# comment out one of the two path options to toggle between sample directory and all data\n",
    "path = DATA_DIR\n",
    "# path = DATA_DIR.joinpath('sample')\n",
    "train_path = path.joinpath('train')\n",
    "val_path = path.joinpath('valid')\n",
    "test_path = path.joinpath('test')\n",
    "results_path = path.joinpath('tesults')\n",
    "\n",
    "# training variables\n",
    "batch_size = 64\n",
    "epochs = 15\n",
    "learning_rate = 1e-3"
   ]
  },
  {
   "cell_type": "markdown",
   "metadata": {},
   "source": [
    "#### getting training and validation data in batches"
   ]
  },
  {
   "cell_type": "code",
   "execution_count": 2,
   "metadata": {},
   "outputs": [
    {
     "name": "stdout",
     "output_type": "stream",
     "text": [
      "Found 22424 images belonging to 10 classes.\n",
      "Found 5000 images belonging to 10 classes.\n",
      "Found 79726 images belonging to 1 classes.\n"
     ]
    }
   ],
   "source": [
    "batches = get_in_batches(train_path, batch_size=batch_size, augment=True)\n",
    "val_batches = get_in_batches(val_path, batch_size=batch_size, augment=True)\n",
    "test_batches = get_in_batches(test_path, batch_size=batch_size)"
   ]
  },
  {
   "cell_type": "markdown",
   "metadata": {},
   "source": [
    "#### and getting the classes, labels and filenames for each batch"
   ]
  },
  {
   "cell_type": "code",
   "execution_count": 3,
   "metadata": {
    "collapsed": true
   },
   "outputs": [],
   "source": [
    "trn_classes = batches.classes\n",
    "val_classes = val_batches.classes\n",
    "trn_labels = onehot(batches.classes)\n",
    "val_labels = onehot(val_batches.classes)\n",
    "trn_filenames = batches.filenames\n",
    "val_filenames = val_batches.filenames"
   ]
  },
  {
   "cell_type": "markdown",
   "metadata": {},
   "source": [
    "#### defining CNN model"
   ]
  },
  {
   "cell_type": "code",
   "execution_count": 4,
   "metadata": {},
   "outputs": [
    {
     "name": "stdout",
     "output_type": "stream",
     "text": [
      "_________________________________________________________________\n",
      "Layer (type)                 Output Shape              Param #   \n",
      "=================================================================\n",
      "batch_normalization_1 (Batch (None, 3, 224, 224)       12        \n",
      "_________________________________________________________________\n",
      "conv2d_1 (Conv2D)            (None, 32, 222, 222)      896       \n",
      "_________________________________________________________________\n",
      "batch_normalization_2 (Batch (None, 32, 222, 222)      128       \n",
      "_________________________________________________________________\n",
      "conv2d_2 (Conv2D)            (None, 32, 220, 220)      9248      \n",
      "_________________________________________________________________\n",
      "batch_normalization_3 (Batch (None, 32, 220, 220)      128       \n",
      "_________________________________________________________________\n",
      "max_pooling2d_1 (MaxPooling2 (None, 32, 73, 73)        0         \n",
      "_________________________________________________________________\n",
      "conv2d_3 (Conv2D)            (None, 64, 71, 71)        18496     \n",
      "_________________________________________________________________\n",
      "batch_normalization_4 (Batch (None, 64, 71, 71)        256       \n",
      "_________________________________________________________________\n",
      "conv2d_4 (Conv2D)            (None, 64, 69, 69)        36928     \n",
      "_________________________________________________________________\n",
      "batch_normalization_5 (Batch (None, 64, 69, 69)        256       \n",
      "_________________________________________________________________\n",
      "max_pooling2d_2 (MaxPooling2 (None, 64, 23, 23)        0         \n",
      "_________________________________________________________________\n",
      "flatten_1 (Flatten)          (None, 33856)             0         \n",
      "_________________________________________________________________\n",
      "dense_1 (Dense)              (None, 200)               6771400   \n",
      "_________________________________________________________________\n",
      "batch_normalization_6 (Batch (None, 200)               800       \n",
      "_________________________________________________________________\n",
      "dense_2 (Dense)              (None, 10)                2010      \n",
      "=================================================================\n",
      "Total params: 6,840,558\n",
      "Trainable params: 6,839,768\n",
      "Non-trainable params: 790\n",
      "_________________________________________________________________\n"
     ]
    }
   ],
   "source": [
    "model = Sequential([\n",
    "            BatchNormalization(axis=1, input_shape=(3, 224, 224)),\n",
    "            Conv2D(32, 3, activation='relu'),\n",
    "            BatchNormalization(axis=1),\n",
    "            Conv2D(32, 3, activation='relu'),\n",
    "            BatchNormalization(axis=1),\n",
    "            MaxPooling2D((3,3)),\n",
    "    \n",
    "            Conv2D(64, 3, activation='relu'),\n",
    "            BatchNormalization(axis=1),\n",
    "            Conv2D(64, 3, activation='relu'),\n",
    "            BatchNormalization(axis=1),\n",
    "            MaxPooling2D((3, 3)),\n",
    "    \n",
    "            Flatten(),\n",
    "            Dense(200, activation='relu'),\n",
    "            BatchNormalization(),\n",
    "            Dense(10, activation='softmax')\n",
    "    ])\n",
    "model.compile(Adam(lr=learning_rate), loss='categorical_crossentropy', metrics=['accuracy'])\n",
    "model.summary()"
   ]
  },
  {
   "cell_type": "markdown",
   "metadata": {},
   "source": [
    "#### fit_generator() consuming the batches provided by the ImageDataGenerator to fit the model to the data\n",
    "\n",
    "batches.n = samples in the dataset\n",
    "\n",
    "batches.batch_size = number of samples in a batch\n",
    "\n",
    "using batches.n // batches.batch_size ensures we go over the entire dataset once per epoch\n",
    "\n",
    "validation_steps = number of batches of samples to validate against"
   ]
  },
  {
   "cell_type": "code",
   "execution_count": 5,
   "metadata": {},
   "outputs": [
    {
     "name": "stdout",
     "output_type": "stream",
     "text": [
      "Epoch 1/15\n",
      "350/350 [==============================] - 326s - loss: 0.9934 - acc: 0.6800 - val_loss: 1.2440 - val_acc: 0.5938\n",
      "Epoch 2/15\n",
      "350/350 [==============================] - 287s - loss: 0.3472 - acc: 0.8914 - val_loss: 0.5076 - val_acc: 0.7969\n",
      "Epoch 3/15\n",
      "350/350 [==============================] - 287s - loss: 0.2259 - acc: 0.9288 - val_loss: 0.2318 - val_acc: 0.9062\n",
      "Epoch 4/15\n",
      "350/350 [==============================] - 287s - loss: 0.1601 - acc: 0.9501 - val_loss: 0.1735 - val_acc: 0.9219\n",
      "Epoch 5/15\n",
      "350/350 [==============================] - 288s - loss: 0.1406 - acc: 0.9563 - val_loss: 0.0924 - val_acc: 0.9688\n",
      "Epoch 6/15\n",
      "350/350 [==============================] - 287s - loss: 0.1090 - acc: 0.9669 - val_loss: 0.1899 - val_acc: 0.9375\n",
      "Epoch 7/15\n",
      "350/350 [==============================] - 287s - loss: 0.0845 - acc: 0.9734 - val_loss: 0.0119 - val_acc: 1.0000\n",
      "Epoch 8/15\n",
      "350/350 [==============================] - 287s - loss: 0.0811 - acc: 0.9757 - val_loss: 0.1117 - val_acc: 0.9688\n",
      "Epoch 9/15\n",
      "350/350 [==============================] - 287s - loss: 0.0725 - acc: 0.9776 - val_loss: 0.0206 - val_acc: 1.0000\n",
      "Epoch 10/15\n",
      "349/350 [============================>.] - ETA: 0s - loss: 0.0678 - acc: 0.9791\n",
      "Epoch 00009: reducing learning rate to 0.00020000000949949026.\n",
      "350/350 [==============================] - 288s - loss: 0.0679 - acc: 0.9791 - val_loss: 0.0785 - val_acc: 0.9688\n",
      "Epoch 11/15\n",
      "350/350 [==============================] - 287s - loss: 0.0394 - acc: 0.9883 - val_loss: 0.0046 - val_acc: 1.0000\n",
      "Epoch 12/15\n",
      "350/350 [==============================] - 287s - loss: 0.0305 - acc: 0.9917 - val_loss: 0.0444 - val_acc: 0.9844\n",
      "Epoch 13/15\n",
      "350/350 [==============================] - 288s - loss: 0.0227 - acc: 0.9938 - val_loss: 0.0088 - val_acc: 1.0000\n",
      "Epoch 14/15\n",
      "349/350 [============================>.] - ETA: 0s - loss: 0.0228 - acc: 0.9938\n",
      "Epoch 00013: reducing learning rate to 4.0000001899898055e-05.\n",
      "350/350 [==============================] - 286s - loss: 0.0228 - acc: 0.9938 - val_loss: 0.0291 - val_acc: 0.9844\n",
      "Epoch 15/15\n",
      "350/350 [==============================] - 287s - loss: 0.0203 - acc: 0.9937 - val_loss: 0.0037 - val_acc: 1.0000\n"
     ]
    }
   ],
   "source": [
    "history = model.fit_generator(batches,\n",
    "                    steps_per_epoch=batches.n//batches.batch_size,\n",
    "                    validation_data=val_batches,\n",
    "                    validation_steps=1,\n",
    "                    epochs=epochs,\n",
    "                    callbacks=[reduce_lr, stop_early])"
   ]
  },
  {
   "cell_type": "code",
   "execution_count": 6,
   "metadata": {},
   "outputs": [
    {
     "data": {
      "image/png": "[encoded data removed]",
      "text/plain": [
       "<matplotlib.figure.Figure at 0x7f2a50e09d30>"
      ]
     },
     "metadata": {},
     "output_type": "display_data"
    },
    {
     "data": {
      "image/png": "[encoded data removed]",
      "text/plain": [
       "<matplotlib.figure.Figure at 0x7f2a18c02630>"
      ]
     },
     "metadata": {},
     "output_type": "display_data"
    }
   ],
   "source": [
    "plot_acc_and_loss(history)"
   ]
  },
  {
   "cell_type": "markdown",
   "metadata": {},
   "source": [
    "#### test performance and plot confusion matrix on one sample batch of 200 images"
   ]
  },
  {
   "cell_type": "code",
   "execution_count": 7,
   "metadata": {},
   "outputs": [
    {
     "name": "stdout",
     "output_type": "stream",
     "text": [
      "Found 200 images belonging to 10 classes.\n"
     ]
    }
   ],
   "source": [
    "sample_val_path = DATA_DIR.joinpath('sample/valid')\n",
    "sam_val_set = get_in_batches(sample_val_path, shuffle=False, class_mode=None, batch_size=200)\n",
    "pred_classes = model.predict_generator(sam_val_set, 1)\n",
    "pred_classes = np.argmax(pred_classes, axis=1)\n",
    "act_classes = sam_val_set.classes"
   ]
  },
  {
   "cell_type": "code",
   "execution_count": 8,
   "metadata": {},
   "outputs": [
    {
     "name": "stdout",
     "output_type": "stream",
     "text": [
      "[[20  0  0  0  0  0  0  0  0  0]\n",
      " [ 0 20  0  0  0  0  0  0  0  0]\n",
      " [ 0  0 20  0  0  0  0  0  0  0]\n",
      " [ 0  0  0 20  0  0  0  0  0  0]\n",
      " [ 0  0  0  0 20  0  0  0  0  0]\n",
      " [ 1  0  0  0  0 19  0  0  0  0]\n",
      " [ 0  0  0  0  0  0 20  0  0  0]\n",
      " [ 0  0  0  0  0  0  0 20  0  0]\n",
      " [ 0  0  0  0  0  0  0  0 20  0]\n",
      " [ 0  0  0  0  0  0  0  0  0 20]]\n"
     ]
    },
    {
     "data": {
      "image/png": "[encoded data removed]",
      "text/plain": [
       "<matplotlib.figure.Figure at 0x7f2a18b73470>"
      ]
     },
     "metadata": {},
     "output_type": "display_data"
    },
    {
     "data": {
      "text/plain": [
       "<matplotlib.figure.Figure at 0x7f2a18b730b8>"
      ]
     },
     "metadata": {},
     "output_type": "display_data"
    }
   ],
   "source": [
    "cm = confusion_matrix(act_classes, pred_classes)\n",
    "plot_confusion_matrix(cm, val_batches.class_indices)\n",
    "plt.figure()\n",
    "plt.show()"
   ]
  },
  {
   "cell_type": "markdown",
   "metadata": {},
   "source": [
    "#### validating the model performance on the val set\n",
    "\n",
    "Running the evaluate generator returns the cost and accuracy of the model. Doing it in a loop allows us to confirm that the performance is stable. Results should be very similar for all runs. This takes _very_ long though (as long as training or more.. will have to look into this)"
   ]
  },
  {
   "cell_type": "code",
   "execution_count": 11,
   "metadata": {},
   "outputs": [
    {
     "name": "stdout",
     "output_type": "stream",
     "text": [
      "Found 5000 images belonging to 10 classes.\n"
     ]
    },
    {
     "data": {
      "text/plain": [
       "array([[ 0.003,  0.999],\n",
       "       [ 0.003,  0.999],\n",
       "       [ 0.003,  0.999],\n",
       "       [ 0.003,  0.999],\n",
       "       [ 0.003,  0.999]])"
      ]
     },
     "execution_count": 11,
     "metadata": {},
     "output_type": "execute_result"
    }
   ],
   "source": [
    "rnd_batches = get_in_batches(val_path, batch_size=batch_size, shuffle=True)\n",
    "val_res = [model.evaluate_generator(rnd_batches, 350) for i in range(5)]\n",
    "np.round(val_res, 3)"
   ]
  },
  {
   "cell_type": "markdown",
   "metadata": {},
   "source": [
    "#### saving weights and model separately to file for reuse"
   ]
  },
  {
   "cell_type": "code",
   "execution_count": 10,
   "metadata": {
    "collapsed": true
   },
   "outputs": [],
   "source": [
    "model_json = model.to_json()\n",
    "with open(\"model.json\", \"w\") as json_file:\n",
    "    json_file.write(model_json)\n",
    "\n",
    "model.save('CNN_two_convs_25022918_0900.h5')"
   ]
  },
  {
   "cell_type": "code",
   "execution_count": null,
   "metadata": {
    "collapsed": true
   },
   "outputs": [],
   "source": []
  },
  {
   "cell_type": "code",
   "execution_count": null,
   "metadata": {
    "collapsed": true
   },
   "outputs": [],
   "source": []
  }
 ],
 "metadata": {
  "kernelspec": {
   "display_name": "Python [conda env:finalProject]",
   "language": "python",
   "name": "conda-env-finalProject-py"
  },
  "language_info": {
   "codemirror_mode": {
    "name": "ipython",
    "version": 3
   },
   "file_extension": ".py",
   "mimetype": "text/x-python",
   "name": "python",
   "nbconvert_exporter": "python",
   "pygments_lexer": "ipython3",
   "version": "3.6.4"
  }
 },
 "nbformat": 4,
 "nbformat_minor": 2
}
