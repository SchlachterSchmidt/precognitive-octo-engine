{
 "cells": [
  {
   "cell_type": "markdown",
   "metadata": {},
   "source": [
    "# Final Project DL model Notebook - linear model"
   ]
  },
  {
   "cell_type": "markdown",
   "metadata": {},
   "source": [
    "#### imports, settings and constants"
   ]
  },
  {
   "cell_type": "code",
   "execution_count": 1,
   "metadata": {},
   "outputs": [
    {
     "name": "stderr",
     "output_type": "stream",
     "text": [
      "Using Theano backend.\n"
     ]
    }
   ],
   "source": [
    "import sys\n",
    "\n",
    "from keras.models import Sequential\n",
    "from keras.layers import BatchNormalization, Flatten, Dense\n",
    "from keras.optimizers import Adam\n",
    "\n",
    "from pathlib import Path\n",
    "\n",
    "sys.path.append(str(Path.cwd().parent))\n",
    "from utils import *\n",
    "\n",
    "current_dir = Path.cwd()\n",
    "HOME_DIR = current_dir.parent\n",
    "DATA_DIR = HOME_DIR.joinpath('data')\n",
    "\n",
    "# comment out one of the two path options to toggle between sample directory and all data\n",
    "# path = DATA_HOME_DIR\n",
    "path = DATA_DIR.joinpath('sample')\n",
    "train_path = path.joinpath('train')\n",
    "val_path = path.joinpath('valid')\n",
    "test_path = path.joinpath('test')\n",
    "results_path = path.joinpath('tesults')\n",
    "\n",
    "# training variables\n",
    "batch_size = 10\n",
    "epochs = 5\n",
    "learning_rate = 1e-5"
   ]
  },
  {
   "cell_type": "markdown",
   "metadata": {},
   "source": [
    "#### getting training and validation data in batches"
   ]
  },
  {
   "cell_type": "code",
   "execution_count": 2,
   "metadata": {},
   "outputs": [
    {
     "name": "stdout",
     "output_type": "stream",
     "text": [
      "Found 1000 images belonging to 10 classes.\n",
      "Found 200 images belonging to 10 classes.\n",
      "Found 0 images belonging to 0 classes.\n"
     ]
    }
   ],
   "source": [
    "batches = get_in_batches(train_path)\n",
    "val_batches = get_in_batches(val_path)\n",
    "test_batches = get_in_batches(test_path)"
   ]
  },
  {
   "cell_type": "markdown",
   "metadata": {},
   "source": [
    "#### and getting the classes, labels and filenames for each batch"
   ]
  },
  {
   "cell_type": "code",
   "execution_count": 3,
   "metadata": {
    "collapsed": true
   },
   "outputs": [],
   "source": [
    "trn_classes = batches.classes\n",
    "val_classes = val_batches.classes\n",
    "trn_labels = to_categorical(batches.classes)\n",
    "val_labels = to_categorical(val_batches.classes)\n",
    "trn_filenames = batches.filenames\n",
    "val_filenames = val_batches.filenames"
   ]
  },
  {
   "cell_type": "markdown",
   "metadata": {},
   "source": [
    "#### defining linear model"
   ]
  },
  {
   "cell_type": "code",
   "execution_count": 4,
   "metadata": {},
   "outputs": [
    {
     "name": "stdout",
     "output_type": "stream",
     "text": [
      "_________________________________________________________________\n",
      "Layer (type)                 Output Shape              Param #   \n",
      "=================================================================\n",
      "batch_normalization_1 (Batch (None, 3, 224, 224)       12        \n",
      "_________________________________________________________________\n",
      "flatten_1 (Flatten)          (None, 150528)            0         \n",
      "_________________________________________________________________\n",
      "dense_1 (Dense)              (None, 10)                1505290   \n",
      "=================================================================\n",
      "Total params: 1,505,302\n",
      "Trainable params: 1,505,296\n",
      "Non-trainable params: 6\n",
      "_________________________________________________________________\n"
     ]
    }
   ],
   "source": [
    "model = Sequential([\n",
    "        BatchNormalization(axis=1, input_shape=(3,224,224)),\n",
    "        Flatten(),\n",
    "        Dense(10, activation='softmax')\n",
    "    ])\n",
    "model.compile(Adam(lr=learning_rate), loss='categorical_crossentropy', metrics=['accuracy'])\n",
    "model.summary()"
   ]
  },
  {
   "cell_type": "markdown",
   "metadata": {},
   "source": [
    "#### fit_generator() consuming the batches provided by the ImageDataGenerator to fit the model to the data"
   ]
  },
  {
   "cell_type": "code",
   "execution_count": 5,
   "metadata": {},
   "outputs": [
    {
     "name": "stdout",
     "output_type": "stream",
     "text": [
      "Epoch 1/5\n",
      "4/4 [==============================] - 0s - loss: 3.0307 - acc: 0.1250 - val_loss: 11.9009 - val_acc: 0.0625\n",
      "Epoch 2/5\n",
      "4/4 [==============================] - 0s - loss: 3.5787 - acc: 0.1875 - val_loss: 11.1436 - val_acc: 0.0000e+00\n",
      "Epoch 3/5\n",
      "4/4 [==============================] - 0s - loss: 3.4263 - acc: 0.1875 - val_loss: 9.6375 - val_acc: 0.1875\n",
      "Epoch 4/5\n",
      "4/4 [==============================] - 0s - loss: 3.9118 - acc: 0.1250 - val_loss: 9.6977 - val_acc: 0.1875\n",
      "Epoch 5/5\n",
      "4/4 [==============================] - 0s - loss: 3.2273 - acc: 0.0000e+00 - val_loss: 8.1766 - val_acc: 0.1250\n"
     ]
    }
   ],
   "source": [
    "history = model.fit_generator(batches,\n",
    "                    steps_per_epoch=batches.batch_size,\n",
    "                    validation_data=val_batches,\n",
    "                    validation_steps=val_batches.batch_size,\n",
    "                    epochs=epochs)"
   ]
  },
  {
   "cell_type": "code",
   "execution_count": 6,
   "metadata": {},
   "outputs": [
    {
     "data": {
      "image/png": "[encoded data removed]",
      "text/plain": [
       "<matplotlib.figure.Figure at 0x117c135f8>"
      ]
     },
     "metadata": {},
     "output_type": "display_data"
    },
    {
     "data": {
      "image/png": "[encoded data removed]",
      "text/plain": [
       "<matplotlib.figure.Figure at 0x10c790fd0>"
      ]
     },
     "metadata": {},
     "output_type": "display_data"
    }
   ],
   "source": [
    "plot_acc_and_loss(history)"
   ]
  },
  {
   "cell_type": "code",
   "execution_count": null,
   "metadata": {
    "collapsed": true
   },
   "outputs": [],
   "source": []
  }
 ],
 "metadata": {
  "kernelspec": {
   "display_name": "Python 3",
   "language": "python",
   "name": "python3"
  },
  "language_info": {
   "codemirror_mode": {
    "name": "ipython",
    "version": 3
   },
   "file_extension": ".py",
   "mimetype": "text/x-python",
   "name": "python",
   "nbconvert_exporter": "python",
   "pygments_lexer": "ipython3",
   "version": "3.6.1"
  }
 },
 "nbformat": 4,
 "nbformat_minor": 2
}
