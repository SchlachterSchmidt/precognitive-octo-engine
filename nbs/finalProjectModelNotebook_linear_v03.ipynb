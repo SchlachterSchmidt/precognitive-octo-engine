{
 "cells": [
  {
   "cell_type": "markdown",
   "metadata": {},
   "source": [
    "# Final Project DL model Notebook - linear model - v03"
   ]
  },
  {
   "cell_type": "markdown",
   "metadata": {},
   "source": [
    "#### imports, settings and constants"
   ]
  },
  {
   "cell_type": "code",
   "execution_count": 1,
   "metadata": {},
   "outputs": [
    {
     "name": "stderr",
     "output_type": "stream",
     "text": [
      "Using Theano backend.\n"
     ]
    }
   ],
   "source": [
    "import sys\n",
    "\n",
    "from keras.models import Sequential\n",
    "from keras.layers import BatchNormalization, Flatten, Dense\n",
    "from keras.optimizers import Adam\n",
    "from keras import regularizers\n",
    "\n",
    "import numpy as np\n",
    "\n",
    "from pathlib import Path\n",
    "\n",
    "sys.path.append(str(Path.cwd().parent))\n",
    "from utils import *\n",
    "\n",
    "current_dir = Path.cwd()\n",
    "HOME_DIR = current_dir.parent\n",
    "DATA_DIR = HOME_DIR.joinpath('data')\n",
    "\n",
    "# comment out one of the two path options to toggle between sample directory and all data\n",
    "# path = DATA_HOME_DIR\n",
    "path = DATA_DIR.joinpath('sample')\n",
    "train_path = path.joinpath('train')\n",
    "val_path = path.joinpath('valid')\n",
    "test_path = path.joinpath('test')\n",
    "results_path = path.joinpath('tesults')\n",
    "\n",
    "# training variables\n",
    "batch_size = 6\n",
    "epochs = 2\n",
    "learning_rate = 1e-3\n",
    "regularization_rate = 0.01"
   ]
  },
  {
   "cell_type": "markdown",
   "metadata": {},
   "source": [
    "#### getting training and validation data in batches"
   ]
  },
  {
   "cell_type": "code",
   "execution_count": 2,
   "metadata": {},
   "outputs": [
    {
     "name": "stdout",
     "output_type": "stream",
     "text": [
      "Found 1000 images belonging to 10 classes.\n",
      "Found 200 images belonging to 10 classes.\n",
      "Found 0 images belonging to 0 classes.\n"
     ]
    }
   ],
   "source": [
    "batches = get_in_batches(train_path, batch_size=batch_size)\n",
    "val_batches = get_in_batches(val_path, batch_size=batch_size)\n",
    "test_batches = get_in_batches(test_path, batch_size=batch_size)"
   ]
  },
  {
   "cell_type": "markdown",
   "metadata": {},
   "source": [
    "#### and getting the classes, labels and filenames for each batch"
   ]
  },
  {
   "cell_type": "code",
   "execution_count": 3,
   "metadata": {
    "collapsed": true
   },
   "outputs": [],
   "source": [
    "trn_classes = batches.classes\n",
    "val_classes = val_batches.classes\n",
    "trn_labels = onehot(batches.classes)\n",
    "val_labels = onehot(val_batches.classes)\n",
    "trn_filenames = batches.filenames\n",
    "val_filenames = val_batches.filenames"
   ]
  },
  {
   "cell_type": "markdown",
   "metadata": {},
   "source": [
    "#### defining linear model - same as v02, but with l2 regularisation"
   ]
  },
  {
   "cell_type": "code",
   "execution_count": 4,
   "metadata": {},
   "outputs": [
    {
     "name": "stdout",
     "output_type": "stream",
     "text": [
      "_________________________________________________________________\n",
      "Layer (type)                 Output Shape              Param #   \n",
      "=================================================================\n",
      "batch_normalization_1 (Batch (None, 3, 224, 224)       12        \n",
      "_________________________________________________________________\n",
      "flatten_1 (Flatten)          (None, 150528)            0         \n",
      "_________________________________________________________________\n",
      "dense_1 (Dense)              (None, 10)                1505290   \n",
      "=================================================================\n",
      "Total params: 1,505,302\n",
      "Trainable params: 1,505,296\n",
      "Non-trainable params: 6\n",
      "_________________________________________________________________\n"
     ]
    }
   ],
   "source": [
    "model = Sequential([\n",
    "        BatchNormalization(axis=1, input_shape=(3,224,224)),\n",
    "        Flatten(),\n",
    "        Dense(10, activation='softmax', kernel_regularizer=regularizers.l2(regularization_rate))\n",
    "    ])\n",
    "model.compile(Adam(lr=learning_rate), loss='categorical_crossentropy', metrics=['accuracy'])\n",
    "model.summary()"
   ]
  },
  {
   "cell_type": "markdown",
   "metadata": {},
   "source": [
    "#### fit_generator() consuming the batches provided by the ImageDataGenerator to fit the model to the data"
   ]
  },
  {
   "cell_type": "code",
   "execution_count": 5,
   "metadata": {},
   "outputs": [
    {
     "name": "stdout",
     "output_type": "stream",
     "text": [
      "Epoch 1/2\n",
      "6/6 [==============================] - 1s - loss: 11.8932 - acc: 0.1389 - val_loss: 15.5723 - val_acc: 0.0556\n",
      "Epoch 2/2\n",
      "6/6 [==============================] - 1s - loss: 15.6286 - acc: 0.0556 - val_loss: 15.2475 - val_acc: 0.0833\n"
     ]
    }
   ],
   "source": [
    "history = model.fit_generator(batches,\n",
    "                    steps_per_epoch=batches.batch_size,\n",
    "                    validation_data=val_batches,\n",
    "                    validation_steps=val_batches.batch_size,\n",
    "                    epochs=epochs)"
   ]
  },
  {
   "cell_type": "code",
   "execution_count": 6,
   "metadata": {},
   "outputs": [
    {
     "data": {
      "image/png": "[encoded data removed]",
      "text/plain": [
       "<matplotlib.figure.Figure at 0x110eb92b0>"
      ]
     },
     "metadata": {},
     "output_type": "display_data"
    },
    {
     "data": {
      "image/png": "[encoded data removed]",
      "text/plain": [
       "<matplotlib.figure.Figure at 0x10f57a588>"
      ]
     },
     "metadata": {},
     "output_type": "display_data"
    }
   ],
   "source": [
    "plot_acc_and_loss(history)"
   ]
  },
  {
   "cell_type": "markdown",
   "metadata": {},
   "source": [
    "#### validating the model performance on the val set"
   ]
  },
  {
   "cell_type": "code",
   "execution_count": 7,
   "metadata": {
    "scrolled": true
   },
   "outputs": [
    {
     "name": "stdout",
     "output_type": "stream",
     "text": [
      "Found 200 images belonging to 10 classes.\n"
     ]
    },
    {
     "data": {
      "text/plain": [
       "array([[ 14.781,   0.109],\n",
       "       [ 14.744,   0.111]])"
      ]
     },
     "execution_count": 7,
     "metadata": {},
     "output_type": "execute_result"
    }
   ],
   "source": [
    "rnd_batches = get_in_batches(val_path, batch_size=batch_size*2, shuffle=True)\n",
    "val_res = [model.evaluate_generator(rnd_batches, rnd_batches.samples) for i in range(epochs)]\n",
    "np.round(val_res, 3)"
   ]
  },
  {
   "cell_type": "markdown",
   "metadata": {},
   "source": [
    "#### test performance and plot confusion matrix on one batch of 200 images"
   ]
  },
  {
   "cell_type": "code",
   "execution_count": 8,
   "metadata": {},
   "outputs": [
    {
     "name": "stdout",
     "output_type": "stream",
     "text": [
      "Found 200 images belonging to 10 classes.\n"
     ]
    }
   ],
   "source": [
    "test_set = get_in_batches(val_path, shuffle=False, class_mode=None, batch_size=200)\n",
    "pred_classes = model.predict_generator(test_set, 1)\n",
    "pred_classes = np.argmax(pred_classes, axis=1)\n",
    "act_classes = test_set.classes"
   ]
  },
  {
   "cell_type": "code",
   "execution_count": 9,
   "metadata": {},
   "outputs": [
    {
     "name": "stdout",
     "output_type": "stream",
     "text": [
      "[[ 0  0  0  8  0  0  0  0  0 12]\n",
      " [ 0  0  0  8  0  0  5  0  0  7]\n",
      " [ 0  0  0  4  0  0  8  0  0  8]\n",
      " [ 0  0  0 10  0  0  2  0  0  8]\n",
      " [ 0  0  0  3  0  0  8  0  0  9]\n",
      " [ 0  0  0 10  0  0  2  0  0  8]\n",
      " [ 0  0  0  8  0  0  6  0  0  6]\n",
      " [ 0  0  0 10  0  0  3  0  0  7]\n",
      " [ 0  0  0  7  0  0  5  0  0  8]\n",
      " [ 0  0  0  8  0  0  6  0  0  6]]\n"
     ]
    },
    {
     "data": {
      "image/png": "[encoded data removed]",
      "text/plain": [
       "<matplotlib.figure.Figure at 0x11104e940>"
      ]
     },
     "metadata": {},
     "output_type": "display_data"
    },
    {
     "data": {
      "text/plain": [
       "<matplotlib.figure.Figure at 0x1110010f0>"
      ]
     },
     "metadata": {},
     "output_type": "display_data"
    }
   ],
   "source": [
    "cm = confusion_matrix(act_classes, pred_classes)\n",
    "plot_confusion_matrix(cm, val_batches.class_indices)\n",
    "plt.figure()\n",
    "plt.show()"
   ]
  }
 ],
 "metadata": {
  "kernelspec": {
   "display_name": "Python 3",
   "language": "python",
   "name": "python3"
  },
  "language_info": {
   "codemirror_mode": {
    "name": "ipython",
    "version": 3
   },
   "file_extension": ".py",
   "mimetype": "text/x-python",
   "name": "python",
   "nbconvert_exporter": "python",
   "pygments_lexer": "ipython3",
   "version": "3.6.1"
  }
 },
 "nbformat": 4,
 "nbformat_minor": 2
}
