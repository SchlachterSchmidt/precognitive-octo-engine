{
 "cells": [
  {
   "cell_type": "markdown",
   "metadata": {},
   "source": [
    "# Final Project DL model Notebook - Retrain Model From User Data\n",
    "\n",
    "improve and adapt model using data collected in the real world"
   ]
  },
  {
   "cell_type": "code",
   "execution_count": 1,
   "metadata": {},
   "outputs": [
    {
     "name": "stderr",
     "output_type": "stream",
     "text": [
      "/Users/pgieschen/anaconda/envs/finalProject/lib/python3.6/site-packages/h5py/__init__.py:36: FutureWarning: Conversion of the second argument of issubdtype from `float` to `np.floating` is deprecated. In future, it will be treated as `np.float64 == np.dtype(float).type`.\n",
      "  from ._conv import register_converters as _register_converters\n",
      "Using Theano backend.\n"
     ]
    }
   ],
   "source": [
    "import sys\n",
    "\n",
    "from keras.models import load_model\n",
    "from keras.preprocessing.image import ImageDataGenerator\n",
    "import numpy as np\n",
    "\n",
    "from pathlib import Path\n",
    "\n",
    "sys.path.append(str(Path.cwd().parent))\n",
    "from utils import *\n",
    "\n",
    "# Model and data dirs\n",
    "current_dir = Path.cwd()\n",
    "MODEL_NAME = 'CNN_two_convs_30122017_1700.h5'\n",
    "HOME_DIR = current_dir.parent\n",
    "MODEL_DIR = HOME_DIR.joinpath('savedModels/30122017/')\n",
    "MODEL = MODEL_DIR.joinpath(MODEL_NAME)\n",
    "\n",
    "DATA_DIR = HOME_DIR.joinpath('data/')\n",
    "VAL_DATA_DIR = DATA_DIR.joinpath('valid')\n",
    "RETRAIN_DATA_DIR = DATA_DIR.joinpath('retrainBatch01-28-02-2018/labelled/')\n",
    "\n",
    "\n",
    "# training variables\n",
    "batch_size = 64\n",
    "epochs = 5\n",
    "learning_rate = 1e-5"
   ]
  },
  {
   "cell_type": "code",
   "execution_count": 2,
   "metadata": {},
   "outputs": [
    {
     "name": "stderr",
     "output_type": "stream",
     "text": [
      "/Users/pgieschen/anaconda/envs/finalProject/lib/python3.6/site-packages/keras/models.py:291: UserWarning: Error in loading the saved optimizer state. As a result, your model is starting with a freshly initialized optimizer.\n",
      "  warnings.warn('Error in loading the saved optimizer '\n"
     ]
    },
    {
     "name": "stdout",
     "output_type": "stream",
     "text": [
      "_________________________________________________________________\n",
      "Layer (type)                 Output Shape              Param #   \n",
      "=================================================================\n",
      "batch_normalization_1 (Batch (None, 3, 224, 224)       12        \n",
      "_________________________________________________________________\n",
      "conv2d_1 (Conv2D)            (None, 32, 222, 222)      896       \n",
      "_________________________________________________________________\n",
      "batch_normalization_2 (Batch (None, 32, 222, 222)      128       \n",
      "_________________________________________________________________\n",
      "max_pooling2d_1 (MaxPooling2 (None, 32, 74, 74)        0         \n",
      "_________________________________________________________________\n",
      "conv2d_2 (Conv2D)            (None, 64, 72, 72)        18496     \n",
      "_________________________________________________________________\n",
      "batch_normalization_3 (Batch (None, 64, 72, 72)        256       \n",
      "_________________________________________________________________\n",
      "max_pooling2d_2 (MaxPooling2 (None, 64, 24, 24)        0         \n",
      "_________________________________________________________________\n",
      "flatten_1 (Flatten)          (None, 36864)             0         \n",
      "_________________________________________________________________\n",
      "dense_1 (Dense)              (None, 200)               7373000   \n",
      "_________________________________________________________________\n",
      "batch_normalization_4 (Batch (None, 200)               800       \n",
      "_________________________________________________________________\n",
      "dense_2 (Dense)              (None, 10)                2010      \n",
      "=================================================================\n",
      "Total params: 7,395,598\n",
      "Trainable params: 7,395,000\n",
      "Non-trainable params: 598\n",
      "_________________________________________________________________\n"
     ]
    }
   ],
   "source": [
    "model = load_model(MODEL)\n",
    "model.summary()"
   ]
  },
  {
   "cell_type": "markdown",
   "metadata": {},
   "source": [
    "## Validate current performance of the loaded model\n",
    "\n",
    "we loaded the existing model, and now run a quick test to see how the model is currently performing on the validation data set as a benchmark"
   ]
  },
  {
   "cell_type": "code",
   "execution_count": null,
   "metadata": {},
   "outputs": [],
   "source": []
  },
  {
   "cell_type": "code",
   "execution_count": 3,
   "metadata": {},
   "outputs": [
    {
     "name": "stdout",
     "output_type": "stream",
     "text": [
      "Found 5000 images belonging to 10 classes.\n"
     ]
    }
   ],
   "source": [
    "validation_generator_2 = get_val_data_in_batches(VAL_DATA_DIR,batch_size=batch_size, target_size=(224, 224))\n",
    "perf = [model.evaluate_generator(validation_generator_2, validation_generator_2.n // batch_size) for i in range(10)]"
   ]
  },
  {
   "cell_type": "code",
   "execution_count": 4,
   "metadata": {},
   "outputs": [
    {
     "name": "stdout",
     "output_type": "stream",
     "text": [
      "['loss', 'acc']\n"
     ]
    },
    {
     "data": {
      "text/plain": [
       "array([[0.014464, 0.996795]])"
      ]
     },
     "execution_count": 4,
     "metadata": {},
     "output_type": "execute_result"
    }
   ],
   "source": [
    "print(model.metrics_names)\n",
    "np.round(perf, 6)"
   ]
  },
  {
   "cell_type": "markdown",
   "metadata": {},
   "source": [
    "## Now we are going to retrain the classifier on the new data that we collected from the users"
   ]
  },
  {
   "cell_type": "code",
   "execution_count": 5,
   "metadata": {},
   "outputs": [
    {
     "name": "stdout",
     "output_type": "stream",
     "text": [
      "Found 181 images belonging to 10 classes.\n",
      "Found 5000 images belonging to 10 classes.\n"
     ]
    }
   ],
   "source": [
    "# setting a low learning rate, as the model is already quite good, and we merely want it to adapy better to the \n",
    "# generated data\n",
    "model.optimizer.lr.set_value(learning_rate)\n",
    "retrain_batches = get_in_batches(RETRAIN_DATA_DIR, batch_size=batch_size, augment=True)\n",
    "val_batches = get_in_batches(VAL_DATA_DIR, batch_size=batch_size, augment=True)"
   ]
  },
  {
   "cell_type": "code",
   "execution_count": 6,
   "metadata": {},
   "outputs": [
    {
     "name": "stdout",
     "output_type": "stream",
     "text": [
      "Epoch 1/5\n",
      "2/2 [==============================] - 49s 24s/step - loss: 7.8088 - acc: 0.1328 - val_loss: 3.0172 - val_acc: 0.6094\n",
      "Epoch 2/5\n",
      "2/2 [==============================] - 39s 20s/step - loss: 8.9031 - acc: 0.0951 - val_loss: 3.6464 - val_acc: 0.5469\n",
      "Epoch 3/5\n",
      "2/2 [==============================] - 42s 21s/step - loss: 8.5892 - acc: 0.0699 - val_loss: 2.6306 - val_acc: 0.6094\n",
      "Epoch 4/5\n",
      "2/2 [==============================] - 43s 21s/step - loss: 8.1840 - acc: 0.1376 - val_loss: 3.2576 - val_acc: 0.5781\n",
      "Epoch 5/5\n",
      "2/2 [==============================] - 41s 21s/step - loss: 9.2366 - acc: 0.0779 - val_loss: 3.1850 - val_acc: 0.5625\n"
     ]
    }
   ],
   "source": [
    "history = model.fit_generator(retrain_batches,\n",
    "                    steps_per_epoch=retrain_batches.n//retrain_batches.batch_size,\n",
    "                    validation_data=val_batches,\n",
    "                    validation_steps=1,\n",
    "                    epochs=epochs,\n",
    "                    callbacks=[reduce_lr, stop_early])"
   ]
  },
  {
   "cell_type": "code",
   "execution_count": 7,
   "metadata": {},
   "outputs": [
    {
     "data": {
      "image/png": "[encoded data removed]",
      "text/plain": [
       "<matplotlib.figure.Figure at 0x1c1ff41fd0>"
      ]
     },
     "metadata": {},
     "output_type": "display_data"
    },
    {
     "data": {
      "image/png": "[encoded data removed]",
      "text/plain": [
       "<matplotlib.figure.Figure at 0x1c12fe6588>"
      ]
     },
     "metadata": {},
     "output_type": "display_data"
    }
   ],
   "source": [
    "plot_acc_and_loss(history)"
   ]
  },
  {
   "cell_type": "code",
   "execution_count": null,
   "metadata": {},
   "outputs": [],
   "source": []
  }
 ],
 "metadata": {
  "kernelspec": {
   "display_name": "Python [conda env:finalProject]",
   "language": "python",
   "name": "conda-env-finalProject-py"
  },
  "language_info": {
   "codemirror_mode": {
    "name": "ipython",
    "version": 3
   },
   "file_extension": ".py",
   "mimetype": "text/x-python",
   "name": "python",
   "nbconvert_exporter": "python",
   "pygments_lexer": "ipython3",
   "version": "3.6.4"
  }
 },
 "nbformat": 4,
 "nbformat_minor": 2
}
