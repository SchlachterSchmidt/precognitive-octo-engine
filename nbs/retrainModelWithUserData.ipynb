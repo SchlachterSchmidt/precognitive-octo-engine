{
 "cells": [
  {
   "cell_type": "markdown",
   "metadata": {},
   "source": [
    "# Final Project DL model Notebook - Retrain Model From User Data\n",
    "\n",
    "improve and adapt model using data collected in the real world"
   ]
  },
  {
   "cell_type": "code",
   "execution_count": 14,
   "metadata": {},
   "outputs": [],
   "source": [
    "import sys\n",
    "\n",
    "from keras.models import load_model\n",
    "import numpy as np\n",
    "\n",
    "from pathlib import Path\n",
    "\n",
    "sys.path.append(str(Path.cwd().parent))\n",
    "from utils import *\n",
    "\n",
    "# Model and data dirs\n",
    "current_dir = Path.cwd()\n",
    "\n",
    "HOME_DIR = current_dir.parent\n",
    "DATA_DIR = HOME_DIR.joinpath('data/')\n",
    "VAL_DATA_PATH = DATA_DIR.joinpath('valid')\n",
    "RETRAIN_DATA_DIR = DATA_DIR.joinpath('retrainBatch01-28-02-2018/labelled/')\n",
    "MODEL_NAME = 'CNN_two_convs_30122017_1700.h5'\n",
    "MODEL_DIR = HOME_DIR.joinpath('savedModels/')\n",
    "MODEL = MODEL_DIR.joinpath(MODEL_NAME)\n",
    "\n",
    "# training variables\n",
    "batch_size = 64\n",
    "epochs = 15\n",
    "learning_rate = 1e-4"
   ]
  },
  {
   "cell_type": "code",
   "execution_count": 15,
   "metadata": {},
   "outputs": [
    {
     "name": "stderr",
     "output_type": "stream",
     "text": [
      "/Users/pgieschen/anaconda/envs/finalProject/lib/python3.6/site-packages/keras/models.py:291: UserWarning: Error in loading the saved optimizer state. As a result, your model is starting with a freshly initialized optimizer.\n",
      "  warnings.warn('Error in loading the saved optimizer '\n"
     ]
    },
    {
     "name": "stdout",
     "output_type": "stream",
     "text": [
      "_________________________________________________________________\n",
      "Layer (type)                 Output Shape              Param #   \n",
      "=================================================================\n",
      "batch_normalization_1 (Batch (None, 3, 224, 224)       12        \n",
      "_________________________________________________________________\n",
      "conv2d_1 (Conv2D)            (None, 32, 222, 222)      896       \n",
      "_________________________________________________________________\n",
      "batch_normalization_2 (Batch (None, 32, 222, 222)      128       \n",
      "_________________________________________________________________\n",
      "max_pooling2d_1 (MaxPooling2 (None, 32, 74, 74)        0         \n",
      "_________________________________________________________________\n",
      "conv2d_2 (Conv2D)            (None, 64, 72, 72)        18496     \n",
      "_________________________________________________________________\n",
      "batch_normalization_3 (Batch (None, 64, 72, 72)        256       \n",
      "_________________________________________________________________\n",
      "max_pooling2d_2 (MaxPooling2 (None, 64, 24, 24)        0         \n",
      "_________________________________________________________________\n",
      "flatten_1 (Flatten)          (None, 36864)             0         \n",
      "_________________________________________________________________\n",
      "dense_1 (Dense)              (None, 200)               7373000   \n",
      "_________________________________________________________________\n",
      "batch_normalization_4 (Batch (None, 200)               800       \n",
      "_________________________________________________________________\n",
      "dense_2 (Dense)              (None, 10)                2010      \n",
      "=================================================================\n",
      "Total params: 7,395,598\n",
      "Trainable params: 7,395,000\n",
      "Non-trainable params: 598\n",
      "_________________________________________________________________\n"
     ]
    }
   ],
   "source": [
    "model = load_model(MODEL)\n",
    "model.summary()"
   ]
  },
  {
   "cell_type": "markdown",
   "metadata": {},
   "source": [
    "## Validate current performance of the loaded model"
   ]
  },
  {
   "cell_type": "code",
   "execution_count": 23,
   "metadata": {},
   "outputs": [
    {
     "name": "stdout",
     "output_type": "stream",
     "text": [
      "Found 5000 images belonging to 10 classes.\n"
     ]
    }
   ],
   "source": [
    "from keras.preprocessing.image import ImageDataGenerator\n",
    "datagen = ImageDataGenerator()\n",
    "validation_generator = datagen.flow_from_directory(\n",
    "        VAL_DATA_PATH,\n",
    "        target_size=(224, 224),\n",
    "        batch_size=batch_size)"
   ]
  },
  {
   "cell_type": "code",
   "execution_count": null,
   "metadata": {},
   "outputs": [],
   "source": [
    "val_batches = get_in_batches(VAL_DATA_PATH, shuffle=False, class_mode=None, batch_size=batch_size)\n",
    "pred_classes = model.evaluate_generator(validation_generator, 5000)\n",
    "# pred_classes = np.argmax(pred_classes, axis=1)\n",
    "# act_classes = val_batches.classes\n",
    "#print(pred_classes)"
   ]
  },
  {
   "cell_type": "code",
   "execution_count": 18,
   "metadata": {},
   "outputs": [
    {
     "name": "stdout",
     "output_type": "stream",
     "text": [
      "Found 181 images belonging to 10 classes.\n"
     ]
    }
   ],
   "source": [
    "retrain_batches = get_in_batches(RETRAIN_DATA_DIR, batch_size=batch_size, augment=True)\n",
    "retrain_classes = retrain_batches.classes\n",
    "retrain_labels = onehot(retrain_batches.classes)"
   ]
  },
  {
   "cell_type": "code",
   "execution_count": null,
   "metadata": {},
   "outputs": [],
   "source": [
    "history = model.fit_generator(retrain_batches,\n",
    "                    steps_per_epoch=retrain_batches.n//retrain_batches.batch_size,\n",
    "                    epochs=5,\n",
    "                    callbacks=[reduce_lr, stop_early])"
   ]
  },
  {
   "cell_type": "code",
   "execution_count": null,
   "metadata": {},
   "outputs": [],
   "source": []
  }
 ],
 "metadata": {
  "kernelspec": {
   "display_name": "Python [conda env:finalProject]",
   "language": "python",
   "name": "conda-env-finalProject-py"
  },
  "language_info": {
   "codemirror_mode": {
    "name": "ipython",
    "version": 3
   },
   "file_extension": ".py",
   "mimetype": "text/x-python",
   "name": "python",
   "nbconvert_exporter": "python",
   "pygments_lexer": "ipython3",
   "version": "3.6.4"
  }
 },
 "nbformat": 4,
 "nbformat_minor": 2
}
