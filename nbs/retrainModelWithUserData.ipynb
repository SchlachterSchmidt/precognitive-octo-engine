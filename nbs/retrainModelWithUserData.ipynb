{
 "cells": [
  {
   "cell_type": "markdown",
   "metadata": {},
   "source": [
    "# Final Project DL model Notebook - Retrain Model From User Data\n",
    "\n",
    "improve and adapt model using data collected in the real world"
   ]
  },
  {
   "cell_type": "code",
   "execution_count": 1,
   "metadata": {},
   "outputs": [
    {
     "name": "stderr",
     "output_type": "stream",
     "text": [
      "Using Theano backend.\n",
      "Using cuDNN version 5103 on context None\n",
      "Preallocating 10867/11439 Mb (0.950000) on cuda\n",
      "Mapped name None to device cuda: Tesla K80 (0000:00:1E.0)\n"
     ]
    }
   ],
   "source": [
    "import sys\n",
    "\n",
    "from keras.models import load_model\n",
    "from keras.preprocessing.image import ImageDataGenerator\n",
    "import numpy as np\n",
    "\n",
    "from pathlib import Path\n",
    "\n",
    "sys.path.append(str(Path.cwd().parent))\n",
    "from utils import *\n",
    "\n",
    "# Model and data dirs\n",
    "current_dir = Path.cwd()\n",
    "MODEL_NAME = 'CNN_two_convs_30122017_1700.h5'\n",
    "HOME_DIR = current_dir.parent\n",
    "MODEL_DIR = HOME_DIR.joinpath('savedModels/30122017/')\n",
    "MODEL = MODEL_DIR.joinpath(MODEL_NAME)\n",
    "\n",
    "DATA_DIR = HOME_DIR.joinpath('data/')\n",
    "VAL_DATA_DIR = DATA_DIR.joinpath('valid')\n",
    "# RETRAIN_DATA_DIR = DATA_DIR.joinpath('retrainBatch01-28-02-2018/labelled/')\n",
    "RETRAIN_DATA_DIR = DATA_DIR.joinpath('train/')\n",
    "RETRAIN_DATA_DIR = DATA_DIR.joinpath('train/')\n",
    "\n",
    "# training variables\n",
    "batch_size = 64\n",
    "epochs = 5\n",
    "learning_rate = 1e-5"
   ]
  },
  {
   "cell_type": "code",
   "execution_count": 2,
   "metadata": {},
   "outputs": [
    {
     "name": "stdout",
     "output_type": "stream",
     "text": [
      "_________________________________________________________________\n",
      "Layer (type)                 Output Shape              Param #   \n",
      "=================================================================\n",
      "batch_normalization_1 (Batch (None, 3, 224, 224)       12        \n",
      "_________________________________________________________________\n",
      "conv2d_1 (Conv2D)            (None, 32, 222, 222)      896       \n",
      "_________________________________________________________________\n",
      "batch_normalization_2 (Batch (None, 32, 222, 222)      128       \n",
      "_________________________________________________________________\n",
      "max_pooling2d_1 (MaxPooling2 (None, 32, 74, 74)        0         \n",
      "_________________________________________________________________\n",
      "conv2d_2 (Conv2D)            (None, 64, 72, 72)        18496     \n",
      "_________________________________________________________________\n",
      "batch_normalization_3 (Batch (None, 64, 72, 72)        256       \n",
      "_________________________________________________________________\n",
      "max_pooling2d_2 (MaxPooling2 (None, 64, 24, 24)        0         \n",
      "_________________________________________________________________\n",
      "flatten_1 (Flatten)          (None, 36864)             0         \n",
      "_________________________________________________________________\n",
      "dense_1 (Dense)              (None, 200)               7373000   \n",
      "_________________________________________________________________\n",
      "batch_normalization_4 (Batch (None, 200)               800       \n",
      "_________________________________________________________________\n",
      "dense_2 (Dense)              (None, 10)                2010      \n",
      "=================================================================\n",
      "Total params: 7,395,598\n",
      "Trainable params: 7,395,000\n",
      "Non-trainable params: 598\n",
      "_________________________________________________________________\n"
     ]
    }
   ],
   "source": [
    "model = load_model(MODEL)\n",
    "model.summary()"
   ]
  },
  {
   "cell_type": "markdown",
   "metadata": {},
   "source": [
    "## Validate current performance of the loaded model\n",
    "\n",
    "we loaded the existing model, and now run a quick test to see how the model is currently performing on the validation data set as a benchmark"
   ]
  },
  {
   "cell_type": "code",
   "execution_count": 5,
   "metadata": {},
   "outputs": [
    {
     "name": "stdout",
     "output_type": "stream",
     "text": [
      "Found 5000 images belonging to 10 classes.\n"
     ]
    }
   ],
   "source": [
    "datagen = ImageDataGenerator()\n",
    "validation_generator = datagen.flow_from_directory(\n",
    "        VAL_DATA_DIR,\n",
    "        target_size=(224, 224),\n",
    "        batch_size=batch_size)"
   ]
  },
  {
   "cell_type": "code",
   "execution_count": 6,
   "metadata": {},
   "outputs": [],
   "source": [
    "perf = [model.evaluate_generator(validation_generator, 5000 // batch_size) for i in range(10)]"
   ]
  },
  {
   "cell_type": "code",
   "execution_count": 7,
   "metadata": {},
   "outputs": [
    {
     "name": "stdout",
     "output_type": "stream",
     "text": [
      "['loss', 'acc']\n"
     ]
    },
    {
     "data": {
      "text/plain": [
       "array([[ 0.012,  0.997],\n",
       "       [ 0.012,  0.997],\n",
       "       [ 0.012,  0.997],\n",
       "       [ 0.012,  0.997],\n",
       "       [ 0.012,  0.997],\n",
       "       [ 0.012,  0.997],\n",
       "       [ 0.012,  0.997],\n",
       "       [ 0.012,  0.997],\n",
       "       [ 0.012,  0.997],\n",
       "       [ 0.012,  0.997]])"
      ]
     },
     "execution_count": 7,
     "metadata": {},
     "output_type": "execute_result"
    }
   ],
   "source": [
    "print(model.metrics_names)\n",
    "np.round(perf, 6)"
   ]
  },
  {
   "cell_type": "markdown",
   "metadata": {},
   "source": [
    "## Now we are going to retrain the classifier on the new data that we collected from the users"
   ]
  },
  {
   "cell_type": "code",
   "execution_count": 8,
   "metadata": {},
   "outputs": [
    {
     "name": "stdout",
     "output_type": "stream",
     "text": [
      "Found 22424 images belonging to 10 classes.\n",
      "Found 5000 images belonging to 10 classes.\n"
     ]
    }
   ],
   "source": [
    "# setting a low learning rate, as the model is already quite good, and we merely want it to adapy better to the \n",
    "# generated data\n",
    "model.optimizer.lr.set_value(learning_rate)\n",
    "retrain_batches = get_in_batches(RETRAIN_DATA_DIR, batch_size=batch_size, augment=True)\n",
    "val_batches = get_in_batches(VAL_DATA_DIR, batch_size=batch_size, augment=True)"
   ]
  },
  {
   "cell_type": "code",
   "execution_count": 9,
   "metadata": {},
   "outputs": [
    {
     "name": "stdout",
     "output_type": "stream",
     "text": [
      "Epoch 1/5\n",
      "350/350 [==============================] - 294s - loss: 0.9957 - acc: 0.7035 - val_loss: 0.3719 - val_acc: 0.9219\n",
      "Epoch 2/5\n",
      "350/350 [==============================] - 293s - loss: 0.5076 - acc: 0.8347 - val_loss: 0.5173 - val_acc: 0.8281\n",
      "Epoch 3/5\n",
      "350/350 [==============================] - 295s - loss: 0.3623 - acc: 0.8872 - val_loss: 0.3403 - val_acc: 0.8594\n",
      "Epoch 4/5\n",
      "350/350 [==============================] - 292s - loss: 0.2874 - acc: 0.9151 - val_loss: 0.1326 - val_acc: 0.9844\n",
      "Epoch 5/5\n",
      "350/350 [==============================] - 293s - loss: 0.2367 - acc: 0.9293 - val_loss: 0.1455 - val_acc: 1.0000\n"
     ]
    }
   ],
   "source": [
    "history = model.fit_generator(retrain_batches,\n",
    "                    steps_per_epoch=retrain_batches.n//retrain_batches.batch_size,\n",
    "                    validation_data=val_batches,\n",
    "                    validation_steps=1,\n",
    "                    epochs=epochs,\n",
    "                    callbacks=[reduce_lr, stop_early])"
   ]
  },
  {
   "cell_type": "code",
   "execution_count": 10,
   "metadata": {},
   "outputs": [
    {
     "data": {
      "image/png": "[encoded data removed]",
      "text/plain": [
       "<matplotlib.figure.Figure at 0x7fca14ca5e48>"
      ]
     },
     "metadata": {},
     "output_type": "display_data"
    },
    {
     "data": {
      "image/png": "[encoded data removed]",
      "text/plain": [
       "<matplotlib.figure.Figure at 0x7fca0cc3b518>"
      ]
     },
     "metadata": {},
     "output_type": "display_data"
    }
   ],
   "source": [
    "plot_acc_and_loss(history)"
   ]
  },
  {
   "cell_type": "code",
   "execution_count": null,
   "metadata": {
    "collapsed": true
   },
   "outputs": [],
   "source": []
  }
 ],
 "metadata": {
  "kernelspec": {
   "display_name": "Python [conda env:finalProject]",
   "language": "python",
   "name": "conda-env-finalProject-py"
  },
  "language_info": {
   "codemirror_mode": {
    "name": "ipython",
    "version": 3
   },
   "file_extension": ".py",
   "mimetype": "text/x-python",
   "name": "python",
   "nbconvert_exporter": "python",
   "pygments_lexer": "ipython3",
   "version": "3.6.0"
  }
 },
 "nbformat": 4,
 "nbformat_minor": 2
}
