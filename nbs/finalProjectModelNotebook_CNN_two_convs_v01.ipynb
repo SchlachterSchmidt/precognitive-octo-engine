{
 "cells": [
  {
   "cell_type": "markdown",
   "metadata": {},
   "source": [
    "# Final Project DL model Notebook - sinple CNN model with two convolutional layers - v01"
   ]
  },
  {
   "cell_type": "markdown",
   "metadata": {},
   "source": [
    "#### imports, settings and constants"
   ]
  },
  {
   "cell_type": "markdown",
   "metadata": {},
   "source": [
    "run log: \n",
    "\n",
    "- local\n",
    "- sample data set\n",
    "- batch_size = 16\n",
    "- epochs = 2\n",
    "- learning_rate = 1e-4"
   ]
  },
  {
   "cell_type": "code",
   "execution_count": null,
   "metadata": {},
   "outputs": [],
   "source": [
    "import sys\n",
    "\n",
    "from keras.models import Sequential\n",
    "from keras.layers import BatchNormalization, Flatten, Dense, Conv2D, MaxPooling2D\n",
    "from keras.optimizers import Adam\n",
    "import numpy as np\n",
    "\n",
    "from pathlib import Path\n",
    "\n",
    "sys.path.append(str(Path.cwd().parent))\n",
    "from utils import *\n",
    "\n",
    "current_dir = Path.cwd()\n",
    "HOME_DIR = current_dir.parent\n",
    "DATA_DIR = HOME_DIR.joinpath('data')\n",
    "\n",
    "# comment out one of the two path options to toggle between sample directory and all data\n",
    "# path = DATA_DIR\n",
    "path = DATA_DIR.joinpath('sample')\n",
    "train_path = path.joinpath('train')\n",
    "val_path = path.joinpath('valid')\n",
    "test_path = path.joinpath('test')\n",
    "results_path = path.joinpath('tesults')\n",
    "\n",
    "# training variables\n",
    "batch_size = 16\n",
    "epochs = 2\n",
    "learning_rate = 1e-3"
   ]
  },
  {
   "cell_type": "markdown",
   "metadata": {},
   "source": [
    "#### getting training and validation data in batches"
   ]
  },
  {
   "cell_type": "code",
   "execution_count": null,
   "metadata": {},
   "outputs": [],
   "source": [
    "batches = get_in_batches(train_path, batch_size=batch_size)\n",
    "val_batches = get_in_batches(val_path, batch_size=batch_size)\n",
    "test_batches = get_in_batches(test_path, batch_size=batch_size)"
   ]
  },
  {
   "cell_type": "markdown",
   "metadata": {},
   "source": [
    "#### and getting the classes, labels and filenames for each batch"
   ]
  },
  {
   "cell_type": "code",
   "execution_count": null,
   "metadata": {
    "collapsed": true
   },
   "outputs": [],
   "source": [
    "trn_classes = batches.classes\n",
    "val_classes = val_batches.classes\n",
    "trn_labels = onehot(batches.classes)\n",
    "val_labels = onehot(val_batches.classes)\n",
    "trn_filenames = batches.filenames\n",
    "val_filenames = val_batches.filenames"
   ]
  },
  {
   "cell_type": "markdown",
   "metadata": {},
   "source": [
    "#### defining CNN model"
   ]
  },
  {
   "cell_type": "code",
   "execution_count": null,
   "metadata": {},
   "outputs": [],
   "source": [
    "model = Sequential([\n",
    "            BatchNormalization(axis=1, input_shape=(3, 224, 224)),\n",
    "            Conv2D(32, 3, activation='relu'),\n",
    "            BatchNormalization(axis=1),\n",
    "            MaxPooling2D((3,3)),\n",
    "            Conv2D(64, 3, activation='relu'),\n",
    "            BatchNormalization(axis=1),\n",
    "            MaxPooling2D((3, 3)),\n",
    "            Flatten(),\n",
    "            Dense(200, activation='relu'),\n",
    "            BatchNormalization(),\n",
    "            Dense(10, activation='softmax')\n",
    "    ])\n",
    "model.compile(Adam(lr=learning_rate), loss='categorical_crossentropy', metrics=['accuracy'])\n",
    "model.summary()"
   ]
  },
  {
   "cell_type": "markdown",
   "metadata": {},
   "source": [
    "#### fit_generator() consuming the batches provided by the ImageDataGenerator to fit the model to the data\n",
    "\n",
    "batches.n = samples in the dataset\n",
    "\n",
    "batches.batch_size = number of samples in a batch\n",
    "\n",
    "using batches.n // batches.batch_size ensures we go over the entire dataset once per epoch\n",
    "\n",
    "validation_steps = number of batches of samples to validate against"
   ]
  },
  {
   "cell_type": "code",
   "execution_count": null,
   "metadata": {},
   "outputs": [],
   "source": [
    "history = model.fit_generator(batches,\n",
    "                    steps_per_epoch=batches.n//batches.batch_size,\n",
    "                    validation_data=val_batches,\n",
    "                    validation_steps=1,\n",
    "                    epochs=epochs,\n",
    "                    callbacks=[reduce_lr, stop_early])"
   ]
  },
  {
   "cell_type": "code",
   "execution_count": null,
   "metadata": {},
   "outputs": [],
   "source": [
    "plot_acc_and_loss(history)"
   ]
  },
  {
   "cell_type": "markdown",
   "metadata": {},
   "source": [
    "#### test performance and plot confusion matrix on one batch of 200 images"
   ]
  },
  {
   "cell_type": "code",
   "execution_count": null,
   "metadata": {},
   "outputs": [],
   "source": [
    "test_set = get_in_batches(val_path, shuffle=False, class_mode=None, batch_size=200)\n",
    "pred_classes = model.predict_generator(test_set, 1)\n",
    "pred_classes = np.argmax(pred_classes, axis=1)\n",
    "act_classes = test_set.classes"
   ]
  },
  {
   "cell_type": "code",
   "execution_count": null,
   "metadata": {},
   "outputs": [],
   "source": [
    "cm = confusion_matrix(act_classes, pred_classes)\n",
    "plot_confusion_matrix(cm, val_batches.class_indices)\n",
    "plt.figure()\n",
    "plt.show()"
   ]
  },
  {
   "cell_type": "code",
   "execution_count": null,
   "metadata": {},
   "outputs": [],
   "source": [
    "model.optimizer.lr = 1e-4\n",
    "history = model.fit_generator(batches,\n",
    "                    steps_per_epoch=batches.batch_size,\n",
    "                    validation_data=val_batches,\n",
    "                    validation_steps=val_batches.batch_size,\n",
    "                    epochs=epochs)"
   ]
  },
  {
   "cell_type": "code",
   "execution_count": null,
   "metadata": {},
   "outputs": [],
   "source": [
    "plot_acc_and_loss(history)"
   ]
  },
  {
   "cell_type": "code",
   "execution_count": null,
   "metadata": {
    "collapsed": true
   },
   "outputs": [],
   "source": [
    "test_set = get_in_batches(val_path, shuffle=False, class_mode=None, batch_size=200)\n",
    "pred_classes = model.predict_generator(test_set, 1)\n",
    "pred_classes = np.argmax(pred_classes, axis=1)\n",
    "act_classes = test_set.classes"
   ]
  },
  {
   "cell_type": "code",
   "execution_count": null,
   "metadata": {
    "collapsed": true
   },
   "outputs": [],
   "source": [
    "cm = confusion_matrix(act_classes, pred_classes)\n",
    "plot_confusion_matrix(cm, val_batches.class_indices)\n",
    "plt.figure()\n",
    "plt.show()"
   ]
  },
  {
   "cell_type": "code",
   "execution_count": null,
   "metadata": {
    "collapsed": true
   },
   "outputs": [],
   "source": [
    "pred_classes"
   ]
  },
  {
   "cell_type": "code",
   "execution_count": null,
   "metadata": {
    "collapsed": true
   },
   "outputs": [],
   "source": [
    "act_classes"
   ]
  },
  {
   "cell_type": "markdown",
   "metadata": {},
   "source": [
    "#### validating the model performance on the val set\n",
    "\n",
    "Running the evaluate generator returns the cost and accuracy of the model. Doing it in a loop allows us to confirm that the performance is stable. Results should be very similar for all runs. This takes _very_ long though"
   ]
  },
  {
   "cell_type": "code",
   "execution_count": null,
   "metadata": {
    "collapsed": true
   },
   "outputs": [],
   "source": [
    "rnd_batches = get_in_batches(val_path, batch_size=batch_size, shuffle=True)\n",
    "val_res = [model.evaluate_generator(rnd_batches, rnd_batches.samples) for i in range(3)]\n",
    "np.round(val_res, 3\n",
    "print(val_res)"
   ]
  }
 ],
 "metadata": {
  "kernelspec": {
   "display_name": "Python 3",
   "language": "python",
   "name": "python3"
  },
  "language_info": {
   "codemirror_mode": {
    "name": "ipython",
    "version": 3
   },
   "file_extension": ".py",
   "mimetype": "text/x-python",
   "name": "python",
   "nbconvert_exporter": "python",
   "pygments_lexer": "ipython3",
   "version": "3.6.2"
  }
 },
 "nbformat": 4,
 "nbformat_minor": 2
}
