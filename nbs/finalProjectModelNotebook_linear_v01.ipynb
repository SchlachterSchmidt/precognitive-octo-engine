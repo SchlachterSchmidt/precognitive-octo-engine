{
 "cells": [
  {
   "cell_type": "markdown",
   "metadata": {},
   "source": [
    "# Final Project DL model Notebook - linear model"
   ]
  },
  {
   "cell_type": "markdown",
   "metadata": {},
   "source": [
    "#### imports, settings and constants"
   ]
  },
  {
   "cell_type": "code",
   "execution_count": 1,
   "metadata": {},
   "outputs": [
    {
     "name": "stderr",
     "output_type": "stream",
     "text": [
      "Using Theano backend.\n"
     ]
    }
   ],
   "source": [
    "import theano.gpuarray\n",
    "import os, sys\n",
    "\n",
    "from keras.models import Sequential\n",
    "from keras.layers import BatchNormalization, Flatten, Dense\n",
    "from keras.optimizers import Adam\n",
    "from keras.preprocessing import image\n",
    "from keras.utils.np_utils import to_categorical\n",
    "from keras import backend\n",
    "## backend.set_image_dim_ordering('th')\n",
    "\n",
    "## both lines only needed if importing from utils module\n",
    "# sys.path.insert(1, os.path.join(sys.path[0], '..'))\n",
    "# from utils.utils import *\n",
    "\n",
    "current_dir = os.getcwd()\n",
    "HOME_DIR = current_dir\n",
    "DATA_DIR = current_dir+'/data/'\n",
    "\n",
    "# comment out one of the two path options to toggle between sample directory and all data\n",
    "# path = DATA_HOME_DIR + '/'\n",
    "path = DATA_DIR + '/sample/'\n",
    "train_path = path + '/train/'\n",
    "val_path = path + '/valid/'\n",
    "test_path = path + '/test/'\n",
    "results_path = path + '/results/'\n",
    "\n",
    "batch_size = 64\n",
    "epochs = 5"
   ]
  },
  {
   "cell_type": "markdown",
   "metadata": {},
   "source": [
    "#### getting training and validation data in batches"
   ]
  },
  {
   "cell_type": "code",
   "execution_count": 2,
   "metadata": {},
   "outputs": [
    {
     "name": "stdout",
     "output_type": "stream",
     "text": [
      "Found 1000 images belonging to 10 classes.\n",
      "Found 200 images belonging to 10 classes.\n",
      "Found 0 images belonging to 0 classes.\n"
     ]
    }
   ],
   "source": [
    "gen=image.ImageDataGenerator()\n",
    "batches = gen.flow_from_directory(train_path, target_size=(224,224), class_mode='categorical', shuffle=True, batch_size=batch_size)\n",
    "val_batches = gen.flow_from_directory(val_path, target_size=(224,224), class_mode='categorical', shuffle=False, batch_size=batch_size * 2)\n",
    "test_batches = gen.flow_from_directory(test_path, target_size=(224,224), class_mode='categorical', shuffle=True, batch_size=batch_size)"
   ]
  },
  {
   "cell_type": "markdown",
   "metadata": {},
   "source": [
    "#### and getting the classes, labels and filenames for each batch"
   ]
  },
  {
   "cell_type": "code",
   "execution_count": 3,
   "metadata": {},
   "outputs": [],
   "source": [
    "trn_classes = batches.classes\n",
    "val_classes = val_batches.classes\n",
    "trn_labels = to_categorical(batches.classes)\n",
    "val_labels = to_categorical(val_batches.classes)\n",
    "trn_filenames = batches.filenames\n",
    "val_filenames = val_batches.filenames"
   ]
  },
  {
   "cell_type": "markdown",
   "metadata": {},
   "source": [
    "#### defining linear model"
   ]
  },
  {
   "cell_type": "code",
   "execution_count": 4,
   "metadata": {},
   "outputs": [],
   "source": [
    "model = Sequential([\n",
    "        BatchNormalization(axis=1, input_shape=(3,224,224)),\n",
    "        Flatten(),\n",
    "        Dense(10, activation='softmax')\n",
    "    ])\n",
    "model.compile(Adam(), loss='categorical_crossentropy', metrics=['accuracy'])"
   ]
  },
  {
   "cell_type": "markdown",
   "metadata": {},
   "source": [
    "#### fit_generator() consuming the batches provided by the ImageDataGenerator to fit the model to the data"
   ]
  },
  {
   "cell_type": "code",
   "execution_count": 5,
   "metadata": {},
   "outputs": [
    {
     "name": "stdout",
     "output_type": "stream",
     "text": [
      "Epoch 1/5\n",
      "15/15 [==============================] - 23s - loss: 13.2756 - acc: 0.1177 - val_loss: 13.8515 - val_acc: 0.1406\n",
      "Epoch 2/5\n",
      "15/15 [==============================] - 20s - loss: 13.8311 - acc: 0.1371 - val_loss: 14.1033 - val_acc: 0.1250\n",
      "Epoch 3/5\n",
      "15/15 [==============================] - 29s - loss: 13.9128 - acc: 0.1317 - val_loss: 14.1033 - val_acc: 0.1250\n",
      "Epoch 4/5\n",
      "15/15 [==============================] - 20s - loss: 13.9183 - acc: 0.1335 - val_loss: 14.2806 - val_acc: 0.1094\n",
      "Epoch 5/5\n",
      "15/15 [==============================] - 21s - loss: 14.3392 - acc: 0.1080 - val_loss: 14.1033 - val_acc: 0.1250\n"
     ]
    },
    {
     "data": {
      "text/plain": [
       "<keras.callbacks.History at 0x111229668>"
      ]
     },
     "execution_count": 5,
     "metadata": {},
     "output_type": "execute_result"
    }
   ],
   "source": [
    "model.fit_generator(batches,\n",
    "                    steps_per_epoch=batches.samples//batches.batch_size,\n",
    "                    validation_data=val_batches,\n",
    "                    validation_steps=val_batches.samples//val_batches.batch_size,\n",
    "                    epochs=epochs)"
   ]
  },
  {
   "cell_type": "code",
   "execution_count": 6,
   "metadata": {},
   "outputs": [
    {
     "name": "stdout",
     "output_type": "stream",
     "text": [
      "_________________________________________________________________\n",
      "Layer (type)                 Output Shape              Param #   \n",
      "=================================================================\n",
      "batch_normalization_1 (Batch (None, 3, 224, 224)       12        \n",
      "_________________________________________________________________\n",
      "flatten_1 (Flatten)          (None, 150528)            0         \n",
      "_________________________________________________________________\n",
      "dense_1 (Dense)              (None, 10)                1505290   \n",
      "=================================================================\n",
      "Total params: 1,505,302\n",
      "Trainable params: 1,505,296\n",
      "Non-trainable params: 6\n",
      "_________________________________________________________________\n"
     ]
    }
   ],
   "source": [
    "model.summary()"
   ]
  },
  {
   "cell_type": "code",
   "execution_count": null,
   "metadata": {
    "collapsed": true
   },
   "outputs": [],
   "source": []
  }
 ],
 "metadata": {
  "kernelspec": {
   "display_name": "Python 3",
   "language": "python",
   "name": "python3"
  },
  "language_info": {
   "codemirror_mode": {
    "name": "ipython",
    "version": 3
   },
   "file_extension": ".py",
   "mimetype": "text/x-python",
   "name": "python",
   "nbconvert_exporter": "python",
   "pygments_lexer": "ipython3",
   "version": "3.6.1"
  }
 },
 "nbformat": 4,
 "nbformat_minor": 2
}
